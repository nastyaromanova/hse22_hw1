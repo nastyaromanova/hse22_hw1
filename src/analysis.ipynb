{
 "cells": [
  {
   "cell_type": "markdown",
   "metadata": {},
   "source": [
    "# Основная часть"
   ]
  },
  {
   "cell_type": "code",
   "execution_count": 1,
   "metadata": {},
   "outputs": [],
   "source": [
    "import re\n",
    "\n",
    "def load_info(filename):\n",
    "    data = ''\n",
    "    with open(filename, 'r') as file:\n",
    "        data = file.read()\n",
    "    \n",
    "    ''' Перед контигом/скаффолдом идет строка вида '>.+', поэтому делаю split по этому выражению '''\n",
    "    \n",
    "    data = re.split('>.+', data)\n",
    "    splited_data = list(map(lambda i: i.replace('\\n', ''), data))\n",
    "    \n",
    "    while '' in splited_data:\n",
    "        splited_data.remove('')\n",
    "    return splited_data\n",
    "\n",
    "def get_info(data):\n",
    "    total_length, max_length, max_data = 0, 0, ''\n",
    "    lengths = list()\n",
    "    for i in data:\n",
    "        length = len(i)\n",
    "        total_length += length\n",
    "        lengths.append(length)\n",
    "        if length > max_length:\n",
    "            max_length = length\n",
    "            max_data = i\n",
    "            \n",
    "    total_cnt = len(data)\n",
    "\n",
    "    lengths.sort()\n",
    "    sum_len, n50 = 0, lengths[0]\n",
    "    for length in lengths:\n",
    "        sum_len += length\n",
    "        if total_length <= 2 * sum_len:\n",
    "            n50 = length\n",
    "            break\n",
    "    \n",
    "    print(f'Количество: {total_cnt}')\n",
    "    print(f'Длина: {total_length}')\n",
    "    print(f'Максимальная длина: {max_length}')\n",
    "    print(f'N50: {n50}')\n",
    "    return max_data"
   ]
  },
  {
   "cell_type": "code",
   "execution_count": 2,
   "metadata": {},
   "outputs": [
    {
     "name": "stdout",
     "output_type": "stream",
     "text": [
      "Анализ полученных контигов\n",
      "Количество: 620\n",
      "Длина: 3926044\n",
      "Максимальная длина: 158930\n",
      "N50: 49854\n"
     ]
    }
   ],
   "source": [
    "contigs = load_info('../data/Poil_contig.fa')\n",
    "print(f'Анализ полученных контигов')\n",
    "max_data = get_info(contigs)\n",
    "with open('../data/configs.fasta', 'w') as f:\n",
    "    f.write(max_data)"
   ]
  },
  {
   "cell_type": "code",
   "execution_count": 3,
   "metadata": {},
   "outputs": [
    {
     "name": "stdout",
     "output_type": "stream",
     "text": [
      "Анализ полученных скаффолдов\n",
      "Количество: 70\n",
      "Длина: 3876216\n",
      "Максимальная длина: 3832138\n",
      "N50: 3832138\n"
     ]
    }
   ],
   "source": [
    "scaffolds = load_info('../data/Poil_scaffold.fa')\n",
    "print(f'Анализ полученных скаффолдов')\n",
    "max_data = get_info(scaffolds)\n",
    "with open('../data/scaffolds.fasta', 'w') as f:\n",
    "    f.write(max_data)"
   ]
  },
  {
   "cell_type": "code",
   "execution_count": 4,
   "metadata": {},
   "outputs": [],
   "source": [
    "def get_gap_info(scaffolds):\n",
    "    max_length_scaffold = scaffolds[0]\n",
    "    for current_scaffold in scaffolds:\n",
    "        if len(current_scaffold) > len(max_length_scaffold):\n",
    "            max_length_scaffold = current_scaffold\n",
    "    \n",
    "    gaps = re.findall('N+', max_length_scaffold)\n",
    "    total_length = sum([len(i) for i in gaps])\n",
    "    print(f'Количество гэпов в скаффолде максимальной длины: {len(gaps)}')\n",
    "    print(f'Общая длина гэпов: {total_length}')\n",
    "    return max_length_scaffold"
   ]
  },
  {
   "cell_type": "code",
   "execution_count": 5,
   "metadata": {},
   "outputs": [
    {
     "name": "stdout",
     "output_type": "stream",
     "text": [
      "Анализ самого длинного скаффолда до уменьшения количества гэпов\n",
      "Количество гэпов в скаффолде максимальной длины: 61\n",
      "Общая длина гэпов: 7642\n"
     ]
    }
   ],
   "source": [
    "scaffolds = load_info('../data/Poil_scaffold.fa')\n",
    "print(f'Анализ самого длинного скаффолда до уменьшения количества гэпов')\n",
    "longest = get_gap_info(scaffolds)\n",
    "with open('../data/longest.fasta', 'w') as f:\n",
    "    f.write(longest)"
   ]
  },
  {
   "cell_type": "code",
   "execution_count": 6,
   "metadata": {},
   "outputs": [
    {
     "name": "stdout",
     "output_type": "stream",
     "text": [
      "Анализ самого длинного скаффолда после уменьшения количества гэпов\n",
      "Количество гэпов в скаффолде максимальной длины: 10\n",
      "Общая длина гэпов: 3136\n"
     ]
    }
   ],
   "source": [
    "gap_closed_scaffolds = load_info('../data/Poil_gapClosed.fa')\n",
    "print(f'Анализ самого длинного скаффолда после уменьшения количества гэпов')\n",
    "gap_close_longest = get_gap_info(gap_closed_scaffolds)\n",
    "with open('../data/gap_close_longest.fasta', 'w') as f:\n",
    "    f.write(gap_close_longest)"
   ]
  },
  {
   "cell_type": "markdown",
   "metadata": {},
   "source": [
    "# Бонусная часть"
   ]
  },
  {
   "cell_type": "code",
   "execution_count": 7,
   "metadata": {},
   "outputs": [
    {
     "name": "stdout",
     "output_type": "stream",
     "text": [
      "Анализ полученных контигов\n",
      "Количество: 3453\n",
      "Длина: 3917192\n",
      "Максимальная длина: 20373\n",
      "N50: 3898\n"
     ]
    }
   ],
   "source": [
    "contigs = load_info('../bonus/Poil_contig.fa')\n",
    "print(f'Анализ полученных контигов')\n",
    "max_config = get_info(contigs)\n",
    "with open('../bonus/configs.fasta', 'w') as f:\n",
    "    f.write(max_data)"
   ]
  },
  {
   "cell_type": "code",
   "execution_count": 8,
   "metadata": {},
   "outputs": [
    {
     "name": "stdout",
     "output_type": "stream",
     "text": [
      "Анализ полученных скаффолдов\n",
      "Количество: 461\n",
      "Длина: 3862082\n",
      "Максимальная длина: 814747\n",
      "N50: 569414\n"
     ]
    }
   ],
   "source": [
    "scaffolds = load_info('../bonus/Poil_scaffold.fa')\n",
    "print(f'Анализ полученных скаффолдов')\n",
    "max_scaffold = get_info(scaffolds)\n",
    "with open('../bonus/scaffolds.fasta', 'w') as f:\n",
    "    f.write(max_data)"
   ]
  },
  {
   "cell_type": "code",
   "execution_count": 9,
   "metadata": {},
   "outputs": [
    {
     "name": "stdout",
     "output_type": "stream",
     "text": [
      "Анализ самого длинного скаффолда до уменьшения количества гэпов\n",
      "Количество гэпов в скаффолде максимальной длины: 321\n",
      "Общая длина гэпов: 14848\n",
      "Анализ самого длинного скаффолда после уменьшения количества гэпов\n",
      "Количество гэпов в скаффолде максимальной длины: 26\n",
      "Общая длина гэпов: 6612\n"
     ]
    }
   ],
   "source": [
    "scaffolds = load_info('../bonus/Poil_scaffold.fa')\n",
    "print(f'Анализ самого длинного скаффолда до уменьшения количества гэпов')\n",
    "longest = get_gap_info(scaffolds)\n",
    "with open('../bonus/longest.fasta', 'w') as f:\n",
    "    f.write(longest)\n",
    "\n",
    "gap_closed_scaffolds = load_info('../bonus/Poil_gapClosed.fa')\n",
    "print(f'Анализ самого длинного скаффолда после уменьшения количества гэпов')\n",
    "gap_close_longest = get_gap_info(gap_closed_scaffolds)\n",
    "with open('../bonus/gap_closed_scaffolds.fasta', 'w') as f:\n",
    "    f.write(longest)"
   ]
  }
 ],
 "metadata": {
  "kernelspec": {
   "display_name": "Python 3",
   "language": "python",
   "name": "python3"
  },
  "language_info": {
   "codemirror_mode": {
    "name": "ipython",
    "version": 3
   },
   "file_extension": ".py",
   "mimetype": "text/x-python",
   "name": "python",
   "nbconvert_exporter": "python",
   "pygments_lexer": "ipython3",
   "version": "3.7.3"
  }
 },
 "nbformat": 4,
 "nbformat_minor": 2
}
